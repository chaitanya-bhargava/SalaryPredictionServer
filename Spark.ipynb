{
 "cells": [
  {
   "cell_type": "code",
   "execution_count": 2,
   "id": "daf7df68",
   "metadata": {},
   "outputs": [],
   "source": [
    "from pyspark.sql import SparkSession\n",
    "from pyspark.context import SparkContext\n",
    "import os"
   ]
  },
  {
   "cell_type": "code",
   "execution_count": 3,
   "id": "b8c3e248",
   "metadata": {},
   "outputs": [],
   "source": [
    "spark = SparkSession.builder.master('local').appName('Test_Spark').getOrCreate()"
   ]
  },
  {
   "cell_type": "code",
   "execution_count": 4,
   "id": "c190d7c3",
   "metadata": {},
   "outputs": [
    {
     "data": {
      "text/html": [
       "\n",
       "            <div>\n",
       "                <p><b>SparkSession - in-memory</b></p>\n",
       "                \n",
       "        <div>\n",
       "            <p><b>SparkContext</b></p>\n",
       "\n",
       "            <p><a href=\"http://LAPTOP-NB9PC6R1:4040\">Spark UI</a></p>\n",
       "\n",
       "            <dl>\n",
       "              <dt>Version</dt>\n",
       "                <dd><code>v3.5.1</code></dd>\n",
       "              <dt>Master</dt>\n",
       "                <dd><code>local</code></dd>\n",
       "              <dt>AppName</dt>\n",
       "                <dd><code>Test_Spark</code></dd>\n",
       "            </dl>\n",
       "        </div>\n",
       "        \n",
       "            </div>\n",
       "        "
      ],
      "text/plain": [
       "<pyspark.sql.session.SparkSession at 0x164b045ff40>"
      ]
     },
     "execution_count": 4,
     "metadata": {},
     "output_type": "execute_result"
    }
   ],
   "source": [
    "### Check if Apache Spark is working or not\n",
    "spark"
   ]
  },
  {
   "cell_type": "code",
   "execution_count": 5,
   "id": "730feba2",
   "metadata": {},
   "outputs": [],
   "source": [
    "# Read the dataset\n",
    "df_pyspark = spark.read.csv('SalaryData.csv', header=True, inferSchema=True)"
   ]
  },
  {
   "cell_type": "code",
   "execution_count": 6,
   "id": "4b9a8dfc",
   "metadata": {},
   "outputs": [
    {
     "data": {
      "text/plain": [
       "[('Age', 'int'),\n",
       " ('Gender', 'int'),\n",
       " ('EducationLevel', 'int'),\n",
       " ('YearsExperience', 'double'),\n",
       " ('Salary', 'int')]"
      ]
     },
     "execution_count": 6,
     "metadata": {},
     "output_type": "execute_result"
    }
   ],
   "source": [
    "df_pyspark.dtypes"
   ]
  },
  {
   "cell_type": "code",
   "execution_count": 7,
   "id": "3e3a8132",
   "metadata": {},
   "outputs": [
    {
     "name": "stdout",
     "output_type": "stream",
     "text": [
      "+---+------+--------------+---------------+------+\n",
      "|Age|Gender|EducationLevel|YearsExperience|Salary|\n",
      "+---+------+--------------+---------------+------+\n",
      "| 32|     0|             0|            5.0| 90000|\n",
      "| 28|     1|             1|            3.0| 65000|\n",
      "| 45|     0|             2|           15.0|150000|\n",
      "| 36|     1|             0|            7.0| 60000|\n",
      "| 52|     0|             1|           20.0|200000|\n",
      "| 29|     0|             0|            2.0| 55000|\n",
      "| 42|     1|             1|           12.0|120000|\n",
      "| 31|     0|             0|            4.0| 80000|\n",
      "| 26|     1|             0|            1.0| 45000|\n",
      "| 38|     0|             2|           10.0|110000|\n",
      "| 29|     0|             1|            3.0| 75000|\n",
      "| 48|     1|             0|           18.0|140000|\n",
      "| 35|     0|             0|            6.0| 65000|\n",
      "| 40|     1|             1|           14.0|130000|\n",
      "| 27|     0|             0|            2.0| 40000|\n",
      "| 44|     0|             0|           16.0|125000|\n",
      "| 33|     1|             1|            7.0| 90000|\n",
      "| 39|     0|             2|           12.0|115000|\n",
      "| 25|     1|             0|            0.0| 35000|\n",
      "| 51|     0|             0|           22.0|180000|\n",
      "+---+------+--------------+---------------+------+\n",
      "only showing top 20 rows\n",
      "\n"
     ]
    }
   ],
   "source": [
    "df_pyspark.show()"
   ]
  },
  {
   "cell_type": "code",
   "execution_count": 8,
   "id": "42c8f421",
   "metadata": {},
   "outputs": [
    {
     "name": "stderr",
     "output_type": "stream",
     "text": [
      "c:\\Users\\A\\AppData\\Local\\Programs\\Python\\Python310\\lib\\site-packages\\scipy\\__init__.py:155: UserWarning: A NumPy version >=1.18.5 and <1.25.0 is required for this version of SciPy (detected version 1.26.3\n",
      "  warnings.warn(f\"A NumPy version >={np_minversion} and <{np_maxversion}\"\n"
     ]
    }
   ],
   "source": [
    "from pyspark.ml.feature import VectorAssembler\n",
    "\n",
    "featureAssembler = VectorAssembler(inputCols=['Age','Gender','EducationLevel','YearsExperience'], outputCol='Independent_Features')"
   ]
  },
  {
   "cell_type": "code",
   "execution_count": 9,
   "id": "99d8d0b6",
   "metadata": {},
   "outputs": [],
   "source": [
    "output = featureAssembler.transform(df_pyspark);"
   ]
  },
  {
   "cell_type": "code",
   "execution_count": 10,
   "id": "a20d8bc3",
   "metadata": {},
   "outputs": [
    {
     "name": "stdout",
     "output_type": "stream",
     "text": [
      "+---+------+--------------+---------------+------+--------------------+\n",
      "|Age|Gender|EducationLevel|YearsExperience|Salary|Independent_Features|\n",
      "+---+------+--------------+---------------+------+--------------------+\n",
      "| 32|     0|             0|            5.0| 90000|  [32.0,0.0,0.0,5.0]|\n",
      "| 28|     1|             1|            3.0| 65000|  [28.0,1.0,1.0,3.0]|\n",
      "| 45|     0|             2|           15.0|150000| [45.0,0.0,2.0,15.0]|\n",
      "| 36|     1|             0|            7.0| 60000|  [36.0,1.0,0.0,7.0]|\n",
      "| 52|     0|             1|           20.0|200000| [52.0,0.0,1.0,20.0]|\n",
      "| 29|     0|             0|            2.0| 55000|  [29.0,0.0,0.0,2.0]|\n",
      "| 42|     1|             1|           12.0|120000| [42.0,1.0,1.0,12.0]|\n",
      "| 31|     0|             0|            4.0| 80000|  [31.0,0.0,0.0,4.0]|\n",
      "| 26|     1|             0|            1.0| 45000|  [26.0,1.0,0.0,1.0]|\n",
      "| 38|     0|             2|           10.0|110000| [38.0,0.0,2.0,10.0]|\n",
      "| 29|     0|             1|            3.0| 75000|  [29.0,0.0,1.0,3.0]|\n",
      "| 48|     1|             0|           18.0|140000| [48.0,1.0,0.0,18.0]|\n",
      "| 35|     0|             0|            6.0| 65000|  [35.0,0.0,0.0,6.0]|\n",
      "| 40|     1|             1|           14.0|130000| [40.0,1.0,1.0,14.0]|\n",
      "| 27|     0|             0|            2.0| 40000|  [27.0,0.0,0.0,2.0]|\n",
      "| 44|     0|             0|           16.0|125000| [44.0,0.0,0.0,16.0]|\n",
      "| 33|     1|             1|            7.0| 90000|  [33.0,1.0,1.0,7.0]|\n",
      "| 39|     0|             2|           12.0|115000| [39.0,0.0,2.0,12.0]|\n",
      "| 25|     1|             0|            0.0| 35000|  [25.0,1.0,0.0,0.0]|\n",
      "| 51|     0|             0|           22.0|180000| [51.0,0.0,0.0,22.0]|\n",
      "+---+------+--------------+---------------+------+--------------------+\n",
      "only showing top 20 rows\n",
      "\n"
     ]
    }
   ],
   "source": [
    "output.show()"
   ]
  },
  {
   "cell_type": "code",
   "execution_count": 11,
   "id": "87a5d25c",
   "metadata": {},
   "outputs": [
    {
     "name": "stdout",
     "output_type": "stream",
     "text": [
      "DataFrame[Independent_Features: vector, Salary: int]\n"
     ]
    }
   ],
   "source": [
    "finalData = output.select('Independent_Features', 'Salary')\n",
    "print(finalData)"
   ]
  },
  {
   "cell_type": "code",
   "execution_count": 12,
   "id": "cc715545",
   "metadata": {},
   "outputs": [
    {
     "name": "stdout",
     "output_type": "stream",
     "text": [
      "+--------------------+------+\n",
      "|Independent_Features|Salary|\n",
      "+--------------------+------+\n",
      "|  [32.0,0.0,0.0,5.0]| 90000|\n",
      "|  [28.0,1.0,1.0,3.0]| 65000|\n",
      "| [45.0,0.0,2.0,15.0]|150000|\n",
      "|  [36.0,1.0,0.0,7.0]| 60000|\n",
      "| [52.0,0.0,1.0,20.0]|200000|\n",
      "|  [29.0,0.0,0.0,2.0]| 55000|\n",
      "| [42.0,1.0,1.0,12.0]|120000|\n",
      "|  [31.0,0.0,0.0,4.0]| 80000|\n",
      "|  [26.0,1.0,0.0,1.0]| 45000|\n",
      "| [38.0,0.0,2.0,10.0]|110000|\n",
      "|  [29.0,0.0,1.0,3.0]| 75000|\n",
      "| [48.0,1.0,0.0,18.0]|140000|\n",
      "|  [35.0,0.0,0.0,6.0]| 65000|\n",
      "| [40.0,1.0,1.0,14.0]|130000|\n",
      "|  [27.0,0.0,0.0,2.0]| 40000|\n",
      "| [44.0,0.0,0.0,16.0]|125000|\n",
      "|  [33.0,1.0,1.0,7.0]| 90000|\n",
      "| [39.0,0.0,2.0,12.0]|115000|\n",
      "|  [25.0,1.0,0.0,0.0]| 35000|\n",
      "| [51.0,0.0,0.0,22.0]|180000|\n",
      "+--------------------+------+\n",
      "only showing top 20 rows\n",
      "\n"
     ]
    }
   ],
   "source": [
    "finalData.show()"
   ]
  },
  {
   "cell_type": "code",
   "execution_count": 13,
   "id": "b4daaacf",
   "metadata": {},
   "outputs": [],
   "source": [
    "from pyspark.ml.regression import LinearRegression"
   ]
  },
  {
   "cell_type": "code",
   "execution_count": 14,
   "id": "e09630ea",
   "metadata": {},
   "outputs": [],
   "source": [
    "### Training Data = 75% and Testing Data = 25%\n",
    "trainingData, testingData = finalData.randomSplit([0.75, 0.25])"
   ]
  },
  {
   "cell_type": "code",
   "execution_count": 15,
   "id": "19cbde9a",
   "metadata": {},
   "outputs": [
    {
     "data": {
      "text/plain": [
       "DataFrame[Independent_Features: vector, Salary: int]"
      ]
     },
     "execution_count": 15,
     "metadata": {},
     "output_type": "execute_result"
    }
   ],
   "source": [
    "trainingData, testingData = finalData.randomSplit([0.75, 0.25])\n",
    "\n",
    "### labelCol is the output column\n",
    "regressor = LinearRegression(featuresCol='Independent_Features', labelCol='Salary')\n",
    "regressor = regressor.fit(trainingData)\n",
    "testingData"
   ]
  },
  {
   "cell_type": "code",
   "execution_count": 16,
   "id": "9ac9bc99",
   "metadata": {},
   "outputs": [
    {
     "data": {
      "text/plain": [
       "DenseVector([2144.1006, -7597.0658, 12734.2975, 3778.2463])"
      ]
     },
     "execution_count": 16,
     "metadata": {},
     "output_type": "execute_result"
    }
   ],
   "source": [
    "### Coefficients of the regressor\n",
    "regressor.coefficients"
   ]
  },
  {
   "cell_type": "code",
   "execution_count": 17,
   "id": "3ad9a054",
   "metadata": {},
   "outputs": [
    {
     "data": {
      "text/plain": [
       "-20486.506970438033"
      ]
     },
     "execution_count": 17,
     "metadata": {},
     "output_type": "execute_result"
    }
   ],
   "source": [
    "### Intercepts of the regressor\n",
    "regressor.intercept"
   ]
  },
  {
   "cell_type": "code",
   "execution_count": 18,
   "id": "ea1ac7cc",
   "metadata": {},
   "outputs": [],
   "source": [
    "### Predict the results\n",
    "predictedResults = regressor.evaluate(testingData)"
   ]
  },
  {
   "cell_type": "code",
   "execution_count": 19,
   "id": "a26a0341",
   "metadata": {},
   "outputs": [
    {
     "name": "stdout",
     "output_type": "stream",
     "text": [
      "+--------------------+------+------------------+\n",
      "|Independent_Features|Salary|        prediction|\n",
      "+--------------------+------+------------------+\n",
      "|      (4,[0],[25.0])| 35000|33116.006846455115|\n",
      "|  [23.0,1.0,0.0,0.5]| 35000|23119.863045330287|\n",
      "|  [26.0,0.0,0.0,1.0]| 35000|39038.353652157515|\n",
      "|  [26.0,1.0,0.0,1.0]| 40000|31441.287829870806|\n",
      "|  [26.0,1.0,0.0,1.0]| 45000|31441.287829870806|\n",
      "|  [26.0,1.0,1.0,1.5]| 45000|46064.708493521975|\n",
      "|  [28.0,0.0,0.0,2.0]| 40000| 47104.80101053565|\n",
      "|  [28.0,0.0,0.0,2.0]| 40000| 47104.80101053565|\n",
      "|  [28.0,1.0,0.0,3.0]| 45000|43285.981441275624|\n",
      "|  [29.0,0.0,0.0,1.5]|   350|47359.778436698034|\n",
      "|  [29.0,1.0,0.0,1.5]| 35000| 39762.71261441133|\n",
      "|  [29.0,1.0,0.0,2.0]| 40000| 41651.83574092467|\n",
      "|  [29.0,1.0,0.0,2.0]| 40000| 41651.83574092467|\n",
      "|  [30.0,0.0,0.0,2.0]| 40000|51393.002115887095|\n",
      "|  [30.0,0.0,0.0,2.0]| 50000|51393.002115887095|\n",
      "|  [30.0,0.0,0.0,3.0]| 45000| 55171.24836891377|\n",
      "|  [30.0,1.0,0.0,2.0]| 40000| 43795.93629360039|\n",
      "|  [30.0,1.0,0.0,3.0]| 45000| 47574.18254662707|\n",
      "|  [30.0,1.0,0.0,4.0]| 50000|51352.428799653746|\n",
      "|  [31.0,0.0,0.0,3.0]| 50000| 57315.34892158951|\n",
      "+--------------------+------+------------------+\n",
      "only showing top 20 rows\n",
      "\n"
     ]
    }
   ],
   "source": [
    "predictedResults.predictions.show()"
   ]
  },
  {
   "cell_type": "code",
   "execution_count": 20,
   "id": "735ab0ec",
   "metadata": {},
   "outputs": [
    {
     "name": "stdout",
     "output_type": "stream",
     "text": [
      "RMSE: 15663.280695\n",
      "r2: 0.889351\n"
     ]
    }
   ],
   "source": [
    "trainingSummary = regressor.summary\n",
    "print(\"RMSE: %f\" % trainingSummary.rootMeanSquaredError)\n",
    "print(\"r2: %f\" % trainingSummary.r2)"
   ]
  },
  {
   "cell_type": "code",
   "execution_count": 21,
   "id": "c1009558",
   "metadata": {},
   "outputs": [],
   "source": [
    "import matplotlib.pyplot as plt"
   ]
  },
  {
   "cell_type": "code",
   "execution_count": 22,
   "id": "0c2e7bbf",
   "metadata": {},
   "outputs": [],
   "source": [
    "linearRegressionPrediction = regressor.transform(testingData).select('Salary', 'prediction')"
   ]
  },
  {
   "cell_type": "code",
   "execution_count": 23,
   "id": "a52747a0",
   "metadata": {},
   "outputs": [],
   "source": [
    "### Converting the PySpark dataframe to a Pandas dataframe\n",
    "lrPredictionDF = linearRegressionPrediction.toPandas().sort_values('Salary')"
   ]
  },
  {
   "cell_type": "code",
   "execution_count": 24,
   "id": "803188a0",
   "metadata": {},
   "outputs": [
    {
     "data": {
      "image/png": "[encoded data removed]",
      "text/plain": [
       "<Figure size 640x480 with 1 Axes>"
      ]
     },
     "metadata": {},
     "output_type": "display_data"
    }
   ],
   "source": [
    "# Plot the actual vs predicted values as a scatter plot\n",
    "plt.scatter(lrPredictionDF['Salary'], lrPredictionDF['prediction'])\n",
    "plt.axline((0, 0), slope=1, linewidth=1, color='k')\n",
    "plt.xlabel('Actual Salary')\n",
    "plt.ylabel('Predicted Salary')\n",
    "plt.title('Linear Regression Predictions')\n",
    "plt.show()"
   ]
  }
 ],
 "metadata": {
  "kernelspec": {
   "display_name": "Python 3 (ipykernel)",
   "language": "python",
   "name": "python3"
  },
  "language_info": {
   "codemirror_mode": {
    "name": "ipython",
    "version": 3
   },
   "file_extension": ".py",
   "mimetype": "text/x-python",
   "name": "python",
   "nbconvert_exporter": "python",
   "pygments_lexer": "ipython3",
   "version": "3.10.7"
  }
 },
 "nbformat": 4,
 "nbformat_minor": 5
}
